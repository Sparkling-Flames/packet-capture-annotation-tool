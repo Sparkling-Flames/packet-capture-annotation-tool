{
 "cells": [
  {
   "cell_type": "markdown",
   "id": "fd399b94",
   "metadata": {},
   "source": [
    "# 数据包采集与标注工具设计\n",
    "\n",
    "本工具结合 Scapy、Wireshark 和 Label Studio，实现网络数据包的采集、分析与标注：\n",
    "\n",
    "1. **采集**：使用 Scapy 进行网络数据包的实时采集，并保存为 pcap 文件。\n",
    "2. **分析**：可用 Wireshark 对 pcap 文件进行可视化分析，辅助理解数据内容。\n",
    "3. **标注**：将数据包基本信息导出为 CSV/JSON，通过 Label Studio 进行批量标注，适用于机器学习等场景。\n",
    "\n",
    "整体流程如下：\n",
    "- Scapy 采集数据包 → 保存为 pcap → 提取关键信息 → 导出为 CSV/JSON → Label Studio 标注"
   ]
  },
  {
   "cell_type": "code",
   "execution_count": 1,
   "id": "577361bb",
   "metadata": {},
   "outputs": [
    {
     "name": "stderr",
     "output_type": "stream",
     "text": [
      "WARNING: No route found for IPv6 destination :: (no default route?). This affects only IPv6\n",
      "WARNING: can't import layer ipsec: cannot import name 'gcd' from 'fractions' (d:\\anaconda\\Lib\\fractions.py)\n"
     ]
    }
   ],
   "source": [
    "from kamene.all import *"
   ]
  },
  {
   "cell_type": "code",
   "execution_count": null,
   "id": "de5cbaf3",
   "metadata": {},
   "outputs": [],
   "source": [
    "# 采集数据包并保存为 pcap 文件\n",
    "def capture_and_save(count=20, iface=None, filename='packets.pcap'):\n",
    "    packets = sniff(count=count, iface=iface)\n",
    "    wrpcap(filename, packets)\n",
    "    print(f'已保存 {count} 个数据包到 {filename}')\n",
    "\n",
    "# 示例：采集10个数据包并保存\n",
    "# capture_and_save(count=10, filename='sample.pcap')"
   ]
  },
  {
   "cell_type": "code",
   "execution_count": null,
   "id": "52394b8c",
   "metadata": {},
   "outputs": [],
   "source": [
    "# 从 pcap 文件中提取关键信息并导出为 CSV，便于 Label Studio 标注\n",
    "import pandas as pd\n",
    "\n",
    "def extract_packet_info(pcap_file, csv_file):\n",
    "    packets = rdpcap(pcap_file)\n",
    "    data = []\n",
    "    for pkt in packets:\n",
    "        info = {\n",
    "            'time': pkt.time,\n",
    "            'src': pkt[IP].src if IP in pkt else '',\n",
    "            'dst': pkt[IP].dst if IP in pkt else '',\n",
    "            'proto': pkt[IP].proto if IP in pkt else '',\n",
    "            'len': len(pkt)\n",
    "        }\n",
    "        data.append(info)\n",
    "    df = pd.DataFrame(data)\n",
    "    df.to_csv(csv_file, index=False)\n",
    "    print(f'已导出数据包信息到 {csv_file}')\n",
    "\n",
    "# 示例：extract_packet_info('sample.pcap', 'packets.csv')"
   ]
  },
  {
   "cell_type": "markdown",
   "id": "4e7e6ddd",
   "metadata": {},
   "source": [
    "## 标注流程说明\n",
    "\n",
    "1. 在 Label Studio 创建新项目，导入导出的 CSV 文件。\n",
    "2. 配置标注界面（如协议类型、用途等标签）。\n",
    "3. 进行人工标注，导出标注结果用于后续分析或模型训练。"
   ]
  },
  {
   "cell_type": "code",
   "execution_count": null,
   "id": "b025fe12",
   "metadata": {},
   "outputs": [],
   "source": [
    "# ...existing code..."
   ]
  }
 ],
 "metadata": {
  "kernelspec": {
   "display_name": "base",
   "language": "python",
   "name": "python3"
  },
  "language_info": {
   "codemirror_mode": {
    "name": "ipython",
    "version": 3
   },
   "file_extension": ".py",
   "mimetype": "text/x-python",
   "name": "python",
   "nbconvert_exporter": "python",
   "pygments_lexer": "ipython3",
   "version": "3.11.7"
  }
 },
 "nbformat": 4,
 "nbformat_minor": 5
}
