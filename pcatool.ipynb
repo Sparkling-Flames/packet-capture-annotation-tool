{
 "cells": [
  {
   "cell_type": "markdown",
   "id": "fe85c9ee",
   "metadata": {},
   "source": [
    "# 数据包采集与标注工具\n",
    "\n",
    "本工具结合 Scapy（或 Kamene）、Wireshark 和 Label Studio，实现网络数据包的自动采集、解析和标注：\n",
    "\n",
    "- **采集**：自动抓取网络数据包并保存为 pcap 文件，同时记录采集参数。\n",
    "- **解析**：将 pcap 文件解析为结构化 JSON，便于后续标注和分析。\n",
    "- **标注**：可将 JSON 转为 CSV，方便在 Label Studio 等工具中进行批量标注。\n",
    "\n",
    "整体流程：采集数据包 → 保存为 pcap → 解析为 JSON → 可选导出为 CSV → 标注"
   ]
  },
  {
   "cell_type": "code",
   "execution_count": null,
   "id": "b025fe12",
   "metadata": {},
   "outputs": [],
   "source": [
    "from kamene.all import *\n",
    "import time\n",
    "import json\n",
    "\n",
    "def capture_packets_with_params(count=100, iface=None, filter_rule='', duration=10):\n",
    "    \"\"\"抓包并保存参数记录\"\"\"\n",
    "    ts = time.strftime('%Y%m%d_%H%M%S')\n",
    "    pcap_filename = f'{ts}.pcap'\n",
    "    params_filename = f'{ts}_params.json'\n",
    "    print(f'开始抓包，文件名: {pcap_filename}')\n",
    "    packets = sniff(count=count, iface=iface, filter=filter_rule, timeout=duration)\n",
    "    wrpcap(pcap_filename, packets)\n",
    "    params = {\n",
    "        'iface': iface,\n",
    "        'filter_rule': filter_rule,\n",
    "        'count': count,\n",
    "        'duration': duration,\n",
    "        'pcap_filename': pcap_filename,\n",
    "        'timestamp': ts\n",
    "    }\n",
    "    with open(params_filename, 'w', encoding='utf-8') as f:\n",
    "        json.dump(params, f, ensure_ascii=False, indent=2)\n",
    "    print(f'参数记录已保存到 {params_filename}')"
   ]
  },
  {
   "cell_type": "markdown",
   "id": "91fd558d",
   "metadata": {},
   "source": [
    "## 采集环节\n",
    "\n",
    "使用 `capture_packets_with_params` 自动抓取网络数据包并保存为 pcap 文件，同时生成采集参数记录（JSON）。  \n",
    "示例：抓取 TCP 包，网卡为 eth0，持续 10 秒  \n",
    "`capture_packets_with_params(count=100, iface='eth0', filter_rule='tcp', duration=10)`"
   ]
  },
  {
   "cell_type": "code",
   "execution_count": null,
   "id": "b1aeef04",
   "metadata": {},
   "outputs": [],
   "source": [
    "# 示例：抓取TCP包，网卡为 eth0，持续10秒\n",
    "# capture_packets_with_params(count=100, iface='eth0', filter_rule='tcp', duration=10)"
   ]
  },
  {
   "cell_type": "markdown",
   "id": "335a88e1",
   "metadata": {},
   "source": [
    "## 解析环节\n",
    "\n",
    "使用 `parse_pcap_to_json` 解析 pcap 文件，提取关键信息并导出为结构化 JSON。  \n",
    "示例：`parse_pcap_to_json('20240724_1000.pcap', '20240724_1000.json')`"
   ]
  },
  {
   "cell_type": "code",
   "execution_count": null,
   "id": "1442a73b",
   "metadata": {},
   "outputs": [],
   "source": [
    "def parse_pcap_to_json(pcap_file, json_file):\n",
    "    \"\"\"解析pcap文件，输出结构化JSON\"\"\"\n",
    "    packets = rdpcap(pcap_file)\n",
    "    result = []\n",
    "    for idx, pkt in enumerate(packets):\n",
    "        info = {\n",
    "            'id': idx,\n",
    "            'timestamp': pkt.time,\n",
    "            'src_ip': pkt[IP].src if IP in pkt else '',\n",
    "            'dst_ip': pkt[IP].dst if IP in pkt else '',\n",
    "            'src_port': pkt.sport if hasattr(pkt, 'sport') else '',\n",
    "            'dst_port': pkt.dport if hasattr(pkt, 'dport') else '',\n",
    "            'protocol': pkt[IP].proto if IP in pkt else '',\n",
    "            'payload_summary': str(pkt.payload)[:50]\n",
    "        }\n",
    "        result.append(info)\n",
    "    with open(json_file, 'w', encoding='utf-8') as f:\n",
    "        json.dump(result, f, ensure_ascii=False, indent=2)\n",
    "    print(f'已导出结构化数据到 {json_file}')\n",
    "\n",
    "# 示例：parse_pcap_to_json('20240724_1000.pcap', '20240724_1000.json')"
   ]
  },
  {
   "cell_type": "markdown",
   "id": "50358bf8",
   "metadata": {},
   "source": [
    "可选  csv导出\n",
    "## 标注环节（可选）\n",
    "\n",
    "如需在 Label Studio 等工具中进行批量标注，可使用 `json_to_csv` 将 JSON 数据转为 CSV 格式。  \n",
    "示例：`json_to_csv('20240724_1000.json', '20240724_1000.csv')`"
   ]
  },
  {
   "cell_type": "code",
   "execution_count": null,
   "id": "19ffd8ef",
   "metadata": {},
   "outputs": [],
   "source": [
    "# 将 JSON 结构化数据导出为 CSV，便于 Label Studio 标注\n",
    "import pandas as pd\n",
    "\n",
    "def json_to_csv(json_file, csv_file):\n",
    "    \"\"\"将JSON结构化数据导出为CSV\"\"\"\n",
    "    import json\n",
    "    with open(json_file, 'r', encoding='utf-8') as f:\n",
    "        data = json.load(f)\n",
    "    df = pd.DataFrame(data)\n",
    "    df.to_csv(csv_file, index=False)\n",
    "    print(f'已导出数据包信息到 {csv_file}')"
   ]
  }
 ],
 "metadata": {
  "kernelspec": {
   "display_name": "base",
   "language": "python",
   "name": "python3"
  },
  "language_info": {
   "codemirror_mode": {
    "name": "ipython",
    "version": 3
   },
   "file_extension": ".py",
   "mimetype": "text/x-python",
   "name": "python",
   "nbconvert_exporter": "python",
   "pygments_lexer": "ipython3",
   "version": "3.11.7"
  }
 },
 "nbformat": 4,
 "nbformat_minor": 5
}
